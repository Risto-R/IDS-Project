{
 "cells": [
  {
   "cell_type": "code",
   "execution_count": 1,
   "metadata": {},
   "outputs": [
    {
     "data": {
      "text/html": [
       "<div>\n",
       "<style scoped>\n",
       "    .dataframe tbody tr th:only-of-type {\n",
       "        vertical-align: middle;\n",
       "    }\n",
       "\n",
       "    .dataframe tbody tr th {\n",
       "        vertical-align: top;\n",
       "    }\n",
       "\n",
       "    .dataframe thead th {\n",
       "        text-align: right;\n",
       "    }\n",
       "</style>\n",
       "<table border=\"1\" class=\"dataframe\">\n",
       "  <thead>\n",
       "    <tr style=\"text-align: right;\">\n",
       "      <th></th>\n",
       "      <th>path</th>\n",
       "      <th>age</th>\n",
       "      <th>gender</th>\n",
       "      <th>chroma_stft</th>\n",
       "      <th>rms</th>\n",
       "      <th>spec_cent</th>\n",
       "      <th>spec_bw</th>\n",
       "      <th>rolloff</th>\n",
       "      <th>zcr</th>\n",
       "      <th>mfcc</th>\n",
       "    </tr>\n",
       "  </thead>\n",
       "  <tbody>\n",
       "    <tr>\n",
       "      <td>0</td>\n",
       "      <td>common_voice_et_18901038.mp3</td>\n",
       "      <td>twenties</td>\n",
       "      <td>male</td>\n",
       "      <td>0.374634</td>\n",
       "      <td>0.079749</td>\n",
       "      <td>1249.345177</td>\n",
       "      <td>1203.207697</td>\n",
       "      <td>2307.273243</td>\n",
       "      <td>0.082681</td>\n",
       "      <td>-12.641043</td>\n",
       "    </tr>\n",
       "    <tr>\n",
       "      <td>1</td>\n",
       "      <td>common_voice_et_18901066.mp3</td>\n",
       "      <td>twenties</td>\n",
       "      <td>male</td>\n",
       "      <td>0.383847</td>\n",
       "      <td>0.110892</td>\n",
       "      <td>1204.333435</td>\n",
       "      <td>1286.444245</td>\n",
       "      <td>2417.378455</td>\n",
       "      <td>0.064155</td>\n",
       "      <td>-10.074480</td>\n",
       "    </tr>\n",
       "    <tr>\n",
       "      <td>2</td>\n",
       "      <td>common_voice_et_18901181.mp3</td>\n",
       "      <td>twenties</td>\n",
       "      <td>male</td>\n",
       "      <td>0.364218</td>\n",
       "      <td>0.070047</td>\n",
       "      <td>1379.127304</td>\n",
       "      <td>1423.911530</td>\n",
       "      <td>2716.563806</td>\n",
       "      <td>0.075511</td>\n",
       "      <td>-12.401386</td>\n",
       "    </tr>\n",
       "    <tr>\n",
       "      <td>3</td>\n",
       "      <td>common_voice_et_18370776.mp3</td>\n",
       "      <td>twenties</td>\n",
       "      <td>male</td>\n",
       "      <td>0.310396</td>\n",
       "      <td>0.111130</td>\n",
       "      <td>1807.703459</td>\n",
       "      <td>1912.632073</td>\n",
       "      <td>3416.454075</td>\n",
       "      <td>0.089347</td>\n",
       "      <td>-13.339600</td>\n",
       "    </tr>\n",
       "    <tr>\n",
       "      <td>4</td>\n",
       "      <td>common_voice_et_18370777.mp3</td>\n",
       "      <td>twenties</td>\n",
       "      <td>male</td>\n",
       "      <td>0.324734</td>\n",
       "      <td>0.076138</td>\n",
       "      <td>2286.324053</td>\n",
       "      <td>2068.363770</td>\n",
       "      <td>4246.545870</td>\n",
       "      <td>0.125317</td>\n",
       "      <td>-15.503075</td>\n",
       "    </tr>\n",
       "    <tr>\n",
       "      <td>...</td>\n",
       "      <td>...</td>\n",
       "      <td>...</td>\n",
       "      <td>...</td>\n",
       "      <td>...</td>\n",
       "      <td>...</td>\n",
       "      <td>...</td>\n",
       "      <td>...</td>\n",
       "      <td>...</td>\n",
       "      <td>...</td>\n",
       "      <td>...</td>\n",
       "    </tr>\n",
       "    <tr>\n",
       "      <td>1497</td>\n",
       "      <td>common_voice_et_18308671.mp3</td>\n",
       "      <td>twenties</td>\n",
       "      <td>female</td>\n",
       "      <td>0.298260</td>\n",
       "      <td>0.075263</td>\n",
       "      <td>2107.282670</td>\n",
       "      <td>2057.545522</td>\n",
       "      <td>4247.306777</td>\n",
       "      <td>0.091857</td>\n",
       "      <td>-15.090737</td>\n",
       "    </tr>\n",
       "    <tr>\n",
       "      <td>1498</td>\n",
       "      <td>common_voice_et_18308672.mp3</td>\n",
       "      <td>twenties</td>\n",
       "      <td>female</td>\n",
       "      <td>0.274054</td>\n",
       "      <td>0.081169</td>\n",
       "      <td>2339.730044</td>\n",
       "      <td>2279.489233</td>\n",
       "      <td>4825.661587</td>\n",
       "      <td>0.100180</td>\n",
       "      <td>-14.464820</td>\n",
       "    </tr>\n",
       "    <tr>\n",
       "      <td>1499</td>\n",
       "      <td>common_voice_et_18308673.mp3</td>\n",
       "      <td>twenties</td>\n",
       "      <td>female</td>\n",
       "      <td>0.293456</td>\n",
       "      <td>0.103017</td>\n",
       "      <td>2448.904584</td>\n",
       "      <td>2102.930359</td>\n",
       "      <td>4768.304374</td>\n",
       "      <td>0.125800</td>\n",
       "      <td>-13.089779</td>\n",
       "    </tr>\n",
       "    <tr>\n",
       "      <td>1500</td>\n",
       "      <td>common_voice_et_18308674.mp3</td>\n",
       "      <td>twenties</td>\n",
       "      <td>female</td>\n",
       "      <td>0.293667</td>\n",
       "      <td>0.105742</td>\n",
       "      <td>2125.045728</td>\n",
       "      <td>2301.417862</td>\n",
       "      <td>4598.227373</td>\n",
       "      <td>0.076127</td>\n",
       "      <td>-12.271699</td>\n",
       "    </tr>\n",
       "    <tr>\n",
       "      <td>1501</td>\n",
       "      <td>common_voice_et_18308675.mp3</td>\n",
       "      <td>twenties</td>\n",
       "      <td>female</td>\n",
       "      <td>0.304070</td>\n",
       "      <td>0.094357</td>\n",
       "      <td>2173.001279</td>\n",
       "      <td>2154.119832</td>\n",
       "      <td>4503.541694</td>\n",
       "      <td>0.090729</td>\n",
       "      <td>-14.453094</td>\n",
       "    </tr>\n",
       "  </tbody>\n",
       "</table>\n",
       "<p>1502 rows × 10 columns</p>\n",
       "</div>"
      ],
      "text/plain": [
       "                              path       age  gender  chroma_stft       rms  \\\n",
       "0     common_voice_et_18901038.mp3  twenties    male     0.374634  0.079749   \n",
       "1     common_voice_et_18901066.mp3  twenties    male     0.383847  0.110892   \n",
       "2     common_voice_et_18901181.mp3  twenties    male     0.364218  0.070047   \n",
       "3     common_voice_et_18370776.mp3  twenties    male     0.310396  0.111130   \n",
       "4     common_voice_et_18370777.mp3  twenties    male     0.324734  0.076138   \n",
       "...                            ...       ...     ...          ...       ...   \n",
       "1497  common_voice_et_18308671.mp3  twenties  female     0.298260  0.075263   \n",
       "1498  common_voice_et_18308672.mp3  twenties  female     0.274054  0.081169   \n",
       "1499  common_voice_et_18308673.mp3  twenties  female     0.293456  0.103017   \n",
       "1500  common_voice_et_18308674.mp3  twenties  female     0.293667  0.105742   \n",
       "1501  common_voice_et_18308675.mp3  twenties  female     0.304070  0.094357   \n",
       "\n",
       "        spec_cent      spec_bw      rolloff       zcr       mfcc  \n",
       "0     1249.345177  1203.207697  2307.273243  0.082681 -12.641043  \n",
       "1     1204.333435  1286.444245  2417.378455  0.064155 -10.074480  \n",
       "2     1379.127304  1423.911530  2716.563806  0.075511 -12.401386  \n",
       "3     1807.703459  1912.632073  3416.454075  0.089347 -13.339600  \n",
       "4     2286.324053  2068.363770  4246.545870  0.125317 -15.503075  \n",
       "...           ...          ...          ...       ...        ...  \n",
       "1497  2107.282670  2057.545522  4247.306777  0.091857 -15.090737  \n",
       "1498  2339.730044  2279.489233  4825.661587  0.100180 -14.464820  \n",
       "1499  2448.904584  2102.930359  4768.304374  0.125800 -13.089779  \n",
       "1500  2125.045728  2301.417862  4598.227373  0.076127 -12.271699  \n",
       "1501  2173.001279  2154.119832  4503.541694  0.090729 -14.453094  \n",
       "\n",
       "[1502 rows x 10 columns]"
      ]
     },
     "execution_count": 1,
     "metadata": {},
     "output_type": "execute_result"
    }
   ],
   "source": [
    "from matplotlib import pyplot as plt\n",
    "import pandas as pd\n",
    "import seaborn as sns\n",
    "plt.style.use('ggplot')\n",
    "from sklearn.model_selection import train_test_split\n",
    "from sklearn.metrics import accuracy_score\n",
    "from sklearn.ensemble import RandomForestClassifier\n",
    "import numpy as np\n",
    "\n",
    "from sklearn.model_selection import train_test_split\n",
    "from sklearn import metrics\n",
    "from sklearn.svm import SVC\n",
    "from sklearn.tree import DecisionTreeClassifier\n",
    "\n",
    "df = pd.read_csv(\"Datasets/Balanced_EST.csv\")\n",
    "df"
   ]
  },
  {
   "cell_type": "markdown",
   "metadata": {},
   "source": [
    "# Lets see how balanced that data is"
   ]
  },
  {
   "cell_type": "code",
   "execution_count": 2,
   "metadata": {},
   "outputs": [
    {
     "data": {
      "text/plain": [
       "<matplotlib.axes._subplots.AxesSubplot at 0x1dbe60539b0>"
      ]
     },
     "execution_count": 2,
     "metadata": {},
     "output_type": "execute_result"
    },
    {
     "data": {
      "image/png": "[encoded data removed]",
      "text/plain": [
       "<Figure size 432x288 with 1 Axes>"
      ]
     },
     "metadata": {
      "needs_background": "light"
     },
     "output_type": "display_data"
    }
   ],
   "source": []
  },
  {
   "cell_type": "code",
   "execution_count": 3,
   "metadata": {},
   "outputs": [],
   "source": [
    "# Making changes if needed"
   ]
  },
  {
   "cell_type": "markdown",
   "metadata": {},
   "source": [
    "# Creating some models and comparing them"
   ]
  },
  {
   "cell_type": "markdown",
   "metadata": {},
   "source": [
    "First lets split the data and then train some models"
   ]
  },
  {
   "cell_type": "code",
   "execution_count": 3,
   "metadata": {},
   "outputs": [
    {
     "name": "stdout",
     "output_type": "stream",
     "text": [
      "Decision tree accuracy: 0.8337028824833703\n",
      "Random Forest accuracy: 0.8758314855875832\n"
     ]
    },
    {
     "name": "stderr",
     "output_type": "stream",
     "text": [
      "C:\\Users\\Frederik\\Anaconda3\\envs\\Py3_IDS\\lib\\site-packages\\sklearn\\ensemble\\forest.py:245: FutureWarning: The default value of n_estimators will change from 10 in version 0.20 to 100 in 0.22.\n",
      "  \"10 in version 0.20 to 100 in 0.22.\", FutureWarning)\n"
     ]
    },
    {
     "name": "stdout",
     "output_type": "stream",
     "text": [
      "SVM linear: 0.6851441241685144\n"
     ]
    }
   ],
   "source": []
  },
  {
   "cell_type": "code",
   "execution_count": null,
   "metadata": {},
   "outputs": [],
   "source": []
  },
  {
   "cell_type": "code",
   "execution_count": 4,
   "metadata": {},
   "outputs": [
    {
     "data": {
      "text/plain": [
       "<matplotlib.axes._subplots.AxesSubplot at 0x2f032e7e208>"
      ]
     },
     "execution_count": 4,
     "metadata": {},
     "output_type": "execute_result"
    },
    {
     "data": {
      "image/png": "[encoded data removed]",
      "text/plain": [
       "<Figure size 1152x1152 with 1 Axes>"
      ]
     },
     "metadata": {
      "needs_background": "light"
     },
     "output_type": "display_data"
    }
   ],
   "source": []
  },
  {
   "cell_type": "code",
   "execution_count": 5,
   "metadata": {},
   "outputs": [
    {
     "data": {
      "image/png": "[encoded data removed]",
      "text/plain": [
       "<Figure size 432x288 with 1 Axes>"
      ]
     },
     "metadata": {
      "needs_background": "light"
     },
     "output_type": "display_data"
    },
    {
     "data": {
      "image/png": "[encoded data removed]",
      "text/plain": [
       "<Figure size 432x288 with 1 Axes>"
      ]
     },
     "metadata": {
      "needs_background": "light"
     },
     "output_type": "display_data"
    },
    {
     "data": {
      "image/png": "[encoded data removed]",
      "text/plain": [
       "<Figure size 432x288 with 1 Axes>"
      ]
     },
     "metadata": {
      "needs_background": "light"
     },
     "output_type": "display_data"
    }
   ],
   "source": []
  },
  {
   "cell_type": "code",
   "execution_count": null,
   "metadata": {},
   "outputs": [],
   "source": []
  }
 ],
 "metadata": {
  "kernelspec": {
   "display_name": "Python 3",
   "language": "python",
   "name": "python3"
  },
  "language_info": {
   "codemirror_mode": {
    "name": "ipython",
    "version": 3
   },
   "file_extension": ".py",
   "mimetype": "text/x-python",
   "name": "python",
   "nbconvert_exporter": "python",
   "pygments_lexer": "ipython3",
   "version": "3.7.4"
  }
 },
 "nbformat": 4,
 "nbformat_minor": 2
}
